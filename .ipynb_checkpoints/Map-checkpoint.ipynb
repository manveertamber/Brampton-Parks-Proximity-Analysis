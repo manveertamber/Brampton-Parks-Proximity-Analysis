{
 "cells": [
  {
   "cell_type": "code",
   "execution_count": null,
   "id": "b559935a",
   "metadata": {},
   "outputs": [],
   "source": [
    "import pandas as pd\n",
    "import folium\n",
    "from folium.plugins import FastMarkerCluster\n",
    "import geojson\n",
    "import geopandas as gpd"
   ]
  },
  {
   "cell_type": "code",
   "execution_count": null,
   "id": "ddcb8c26",
   "metadata": {},
   "outputs": [],
   "source": [
    "address_point_df = pd.read_pickle(\"address_point_df.pkl\")\n",
    "parks_df = pd.read_pickle(\"parks_df.pkl\")"
   ]
  },
  {
   "cell_type": "code",
   "execution_count": null,
   "id": "bac5c54f",
   "metadata": {},
   "outputs": [],
   "source": [
    "parks_df"
   ]
  },
  {
   "cell_type": "code",
   "execution_count": null,
   "id": "f9e9cd2a",
   "metadata": {},
   "outputs": [],
   "source": [
    "address_point_df[\"display_text\"] = \"Address: \" + address_point_df[\"FULL_ADDRESS\"] + \"<BR>Nearest Park: \" + address_point_df[\"Nearest_park_name\"] + \"<BR>Point-to-point distance to nearest park (km): \" + address_point_df[\"Nearest_park_distance\"].round(decimals=3).astype(str)"
   ]
  },
  {
   "cell_type": "code",
   "execution_count": null,
   "id": "d861067d",
   "metadata": {},
   "outputs": [],
   "source": [
    "address_point_df"
   ]
  },
  {
   "cell_type": "code",
   "execution_count": null,
   "id": "e62bbbd6",
   "metadata": {},
   "outputs": [],
   "source": [
    "address_point_df_50 = address_point_df[address_point_df[\"Nearest_park_distance\"] > address_point_df[\"Nearest_park_distance\"].quantile(0.5)]\n",
    "address_point_df_90 = address_point_df[address_point_df[\"Nearest_park_distance\"] > address_point_df[\"Nearest_park_distance\"].quantile(0.9)]\n",
    "address_point_df_95 = address_point_df[address_point_df[\"Nearest_park_distance\"] > address_point_df[\"Nearest_park_distance\"].quantile(0.95)]"
   ]
  },
  {
   "cell_type": "code",
   "execution_count": null,
   "id": "beefeebd",
   "metadata": {},
   "outputs": [],
   "source": [
    "map = folium.Map(location=[address_point_df[\"LATITUDE\"].mean(), address_point_df[\"LONGITUDE\"].mean()], zoom_start=11, control_scale=True, tiles=None)\n",
    "base_map = folium.FeatureGroup(name='Basemap', overlay=True, control=False)\n",
    "folium.TileLayer(tiles='OpenStreetMap').add_to(base_map)\n",
    "base_map.add_to(map)\n",
    "\n",
    "callback = ('function (row) {' \n",
    "                'var marker = L.marker(new L.LatLng(row[0], row[1]), {color: \"red\"});'\n",
    "                'var icon = L.AwesomeMarkers.icon({'\n",
    "                \"icon: 'info-sign',\"\n",
    "                \"iconColor: 'white',\"\n",
    "                \"markerColor: 'green',\"\n",
    "                \"prefix: 'glyphicon',\"\n",
    "                \"extraClasses: 'fa-rotate-0'\"\n",
    "                    '});'\n",
    "                'marker.setIcon(icon);'\n",
    "                \"var popup = L.popup({maxWidth: '300'});\"\n",
    "                \"const display_text = {text: row[2]};\"\n",
    "                \"var mytext = $(`<div id='mytext' class='display_text' style='width: 100.0%; height: 100.0%;'> ${display_text.text}</div>`)[0];\"\n",
    "                \"popup.setContent(mytext);\"\n",
    "                \"marker.bindPopup(popup);\"\n",
    "                'return marker};')\n",
    "\n",
    "ninety_five_percentile_address_points = folium.FeatureGroup(name = 'Houses in worst 5% of \"distance to nearest park\"', show=False, overlay=False)\n",
    "ninety_percentile_address_points  = folium.FeatureGroup(name = 'Houses in worst 10% of \"distance to nearest park\"', show=False, overlay=False)\n",
    "#fifety_percentile_address_points = folium.FeatureGroup(name = 'Houses in worse half of \"distance to nearest park\"', show=False, overlay=False)\n",
    "all_address_points = folium.FeatureGroup(name = 'All Houses/Address Points', show=True, overlay=False)\n",
    "\n",
    "FastMarkerCluster(address_point_df[['LATITUDE', 'LONGITUDE', 'display_text']].values.tolist(), callback=callback).add_to(all_address_points)\n",
    "#FastMarkerCluster(address_point_df_50[['LATITUDE', 'LONGITUDE', 'display_text']].values.tolist(), callback=callback).add_to(fifety_percentile_address_points)\n",
    "FastMarkerCluster(address_point_df_90[['LATITUDE', 'LONGITUDE', 'display_text']].values.tolist(), callback=callback).add_to(ninety_percentile_address_points)\n",
    "FastMarkerCluster(address_point_df_95[['LATITUDE', 'LONGITUDE', 'display_text']].values.tolist(), callback=callback).add_to(ninety_five_percentile_address_points)\n",
    "\n",
    "Parks = folium.FeatureGroup(name = 'Parks', show=True, overlay=True)\n",
    "for i, row in parks_df.iterrows():\n",
    "    sim_geo = gpd.GeoSeries(row['GEOMETRY']).simplify(tolerance=0.001)\n",
    "    geo_j = sim_geo.to_json()\n",
    "    geo_j = folium.GeoJson(data=geo_j,\n",
    "                           style_function=lambda x: {'fillColor': 'orange', 'color':'orange'})\n",
    "    folium.Popup(row['PARK_NAME']).add_to(geo_j)\n",
    "    geo_j.add_to(Parks)\n",
    "    \n",
    "ninety_five_percentile_address_points.add_to(map)\n",
    "ninety_percentile_address_points.add_to(map)\n",
    "#fifety_percentile_address_points.add_to(map)\n",
    "all_address_points.add_to(map)\n",
    "Parks.add_to(map)\n",
    "\n",
    "folium.LayerControl(collapsed = False).add_to(map)\n",
    "\n",
    "\n",
    "\n",
    "title_html = '''\n",
    "             <h3 align=\"center\" style=\"font-size:16px\"><b>How far are the people of Brampton from parks?</b></h3>\n",
    "             <h4 align=\"center\" style=\"font-size:12px\"><b>View on desktop for best experience.</b></h4>\n",
    "             ''' \n",
    "\n",
    "map.get_root().html.add_child(folium.Element(title_html))\n",
    "\n",
    "map"
   ]
  },
  {
   "cell_type": "code",
   "execution_count": null,
   "id": "aa356a21",
   "metadata": {},
   "outputs": [],
   "source": [
    "map.save(\"brampton_parks.html\")"
   ]
  },
  {
   "cell_type": "code",
   "execution_count": null,
   "id": "8b8061c4",
   "metadata": {},
   "outputs": [],
   "source": []
  },
  {
   "cell_type": "code",
   "execution_count": null,
   "id": "751133c0",
   "metadata": {},
   "outputs": [],
   "source": []
  }
 ],
 "metadata": {
  "kernelspec": {
   "display_name": "Python 3",
   "language": "python",
   "name": "python3"
  },
  "language_info": {
   "codemirror_mode": {
    "name": "ipython",
    "version": 3
   },
   "file_extension": ".py",
   "mimetype": "text/x-python",
   "name": "python",
   "nbconvert_exporter": "python",
   "pygments_lexer": "ipython3",
   "version": "3.8.8"
  }
 },
 "nbformat": 4,
 "nbformat_minor": 5
}
